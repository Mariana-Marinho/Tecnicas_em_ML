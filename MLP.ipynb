{
  "cells": [
    {
      "cell_type": "markdown",
      "metadata": {
        "id": "PY9zXkchYlQZ"
      },
      "source": [
        "<center><a href=\"https://www.nvidia.com/dli\"> <img src=\"https://drive.google.com/uc?id=1J3bpGyJcz-7uOFkUNhvOBiReBCk-sUwR\" width=\"200\" </a></center>"
      ]
    },
    {
      "cell_type": "markdown",
      "source": [
        "#Conectando ao Google Drive"
      ],
      "metadata": {
        "id": "J5Bdv0XCcNtO"
      }
    },
    {
      "cell_type": "code",
      "source": [
        "from google.colab import drive\n",
        "drive.mount('/content/gdrive', force_remount=True)"
      ],
      "metadata": {
        "id": "f2ZqsI6hcQCV",
        "colab": {
          "base_uri": "https://localhost:8080/"
        },
        "outputId": "da797508-c9e8-40cf-df6a-02aa034041c4"
      },
      "execution_count": null,
      "outputs": [
        {
          "output_type": "stream",
          "name": "stdout",
          "text": [
            "Mounted at /content/gdrive\n"
          ]
        }
      ]
    },
    {
      "cell_type": "code",
      "source": [
        "%cd /content/gdrive/MyDrive/Colab Notebooks/lab 6\n",
        "!ls"
      ],
      "metadata": {
        "id": "vxPRl7iScSNQ",
        "colab": {
          "base_uri": "https://localhost:8080/"
        },
        "outputId": "38a94565-ff96-488d-be05-baab50443133"
      },
      "execution_count": null,
      "outputs": [
        {
          "output_type": "stream",
          "name": "stdout",
          "text": [
            "[Errno 2] No such file or directory: '/content/gdrive/MyDrive/Colab Notebooks/lab 6'\n",
            "/content\n",
            "gdrive\tsample_data\n"
          ]
        }
      ]
    },
    {
      "cell_type": "markdown",
      "metadata": {
        "id": "gQjHFyQvYlQf"
      },
      "source": [
        "#Classificação de Imagens da base de dados de Linguagem Americana de Sinais"
      ]
    },
    {
      "cell_type": "markdown",
      "metadata": {
        "id": "vdAKVs5UYlQg"
      },
      "source": [
        "Nesta seção, realizaremos as etapas de preparação de dados, criação de modelo e treinamento de modelo que observamos na última seção usando um conjunto de dados diferente: imagens de mãos fazendo letras em [Linguagem de Sinais Americana](http://www.asl.gs /)."
      ]
    },
    {
      "cell_type": "markdown",
      "metadata": {
        "id": "E-vXsXgUYlQh"
      },
      "source": [
        "## Objectives"
      ]
    },
    {
      "cell_type": "markdown",
      "metadata": {
        "id": "VKNaOZ8nYlQi"
      },
      "source": [
        "* Prepare dados de imagem para treinamento\n",
        "* Crie e compile um modelo simples para classificação de imagens\n",
        "* Treine um modelo de classificação de imagens e observe os resultados"
      ]
    },
    {
      "cell_type": "markdown",
      "metadata": {
        "id": "RcpK6JGzYlQj"
      },
      "source": [
        "## American Sign Language Dataset"
      ]
    },
    {
      "cell_type": "markdown",
      "metadata": {
        "id": "qq4lxqAvYlQj"
      },
      "source": [
        "O [alfabeto da linguagem de sinais americana](http://www.asl.gs/) contém 26 letras. Duas dessas letras (j e z) requerem movimento, portanto não estão incluídas no conjunto de dados de treinamento."
      ]
    },
    {
      "cell_type": "markdown",
      "metadata": {
        "id": "TwMPXy-eYlQk"
      },
      "source": [
        "<img src=\"https://drive.google.com/uc?id=199xJ18O5FIpDAw5quyD-lfxWSMe_4Ror\" style=\"width: 600px;\">"
      ]
    },
    {
      "cell_type": "markdown",
      "metadata": {
        "id": "4DBLCGOHYlQl"
      },
      "source": [
        "### Kaggle"
      ]
    },
    {
      "cell_type": "markdown",
      "metadata": {
        "id": "tKbpnWcsYlQm"
      },
      "source": [
        "Este conjunto de dados está disponível no site [Kaggle](http://www.kaggle.com), que é um lugar fantástico para encontrar conjuntos de dados e outros recursos de aprendizagem profunda. Além de fornecer recursos como conjuntos de dados e “kernels” que são como esses notebooks, o Kaggle organiza competições das quais você pode participar, competindo com outros no treinamento de modelos de alta precisão.\n",
        "\n",
        "Se você deseja praticar ou ver exemplos de muitos projetos de aprendizado profundo, Kaggle é um ótimo site para visitar."
      ]
    },
    {
      "cell_type": "markdown",
      "metadata": {
        "id": "7s67AgAsYlQn"
      },
      "source": [
        "## Carregando os dados"
      ]
    },
    {
      "cell_type": "markdown",
      "metadata": {
        "id": "NS_NASc3YlQn"
      },
      "source": [
        "This dataset is not available via Keras in the same way that MNIST is, so let's learn how to load custom data. By the end of this section we will have `x_train`, `y_train`, `x_valid`, and `y_valid` variables as before."
      ]
    },
    {
      "cell_type": "markdown",
      "metadata": {
        "id": "LUxZFw1uYlQo"
      },
      "source": [
        "### Lendo os dados"
      ]
    },
    {
      "cell_type": "markdown",
      "metadata": {
        "id": "xg7tX5z4YlQo"
      },
      "source": [
        "O conjunto de dados de linguagem de sinais está no formato [CSV](https://en.wikipedia.org/wiki/Comma-separated_values) (valores separados por vírgula), a mesma estrutura de dados do Microsoft Excel e do Planilhas Google. É uma grade de linhas e colunas com rótulos na parte superior, como visto nos conjuntos de dados [train](data/asl_data/sign_mnist_train.csv) e [valid](data/asl_data/sign_mnist_valid.csv) (eles podem demorar um pouco para carregar).\n",
        "\n",
        "Para carregar e trabalhar com os dados, usaremos uma biblioteca chamada [Pandas](https://pandas.pydata.org/), que é uma ferramenta de alto desempenho para carregar e manipular dados. Leremos os arquivos CSV em um formato chamado [DataFrame](https://pandas.pydata.org/pandas-docs/stable/reference/api/pandas.DataFrame.html)."
      ]
    },
    {
      "cell_type": "code",
      "execution_count": null,
      "metadata": {
        "id": "otHWxlb1YlQp"
      },
      "outputs": [],
      "source": [
        "import pandas as pd"
      ]
    },
    {
      "cell_type": "markdown",
      "metadata": {
        "id": "sBXI8lhvYlQq"
      },
      "source": [
        "O Pandas tem um método [read_csv](https://pandas.pydata.org/pandas-docs/stable/reference/api/pandas.read_csv.html) que espera um arquivo csv e retorna um DataFrame:"
      ]
    },
    {
      "cell_type": "code",
      "execution_count": null,
      "metadata": {
        "id": "nhCtyJV6YlQq"
      },
      "outputs": [],
      "source": [
        "train_df = pd.read_csv(\"sign_mnist_train.csv\")\n",
        "valid_df = pd.read_csv(\"sign_mnist_valid.csv\")"
      ]
    },
    {
      "cell_type": "markdown",
      "metadata": {
        "id": "MeyBCqhEYlQq"
      },
      "source": [
        "### Explorando a base de dados"
      ]
    },
    {
      "cell_type": "markdown",
      "metadata": {
        "id": "IYbHQtgGYlQr"
      },
      "source": [
        "Vamos dar uma olhada em nossos dados. Podemos usar o método [head](https://pandas.pydata.org/pandas-docs/stable/reference/api/pandas.DataFrame.head.html) para imprimir as primeiras linhas do DataFrame. Cada linha é uma imagem que possui uma coluna `label` e também 784 valores que representam cada valor de pixel na imagem, assim como no conjunto de dados MNIST. Observe que os rótulos atualmente são valores numéricos, não letras do alfabeto:"
      ]
    },
    {
      "cell_type": "code",
      "execution_count": null,
      "metadata": {
        "id": "DkZXx0mLYlQr"
      },
      "outputs": [],
      "source": [
        "valid_df.head()"
      ]
    },
    {
      "cell_type": "markdown",
      "metadata": {
        "id": "EoYmdMPNYlQr"
      },
      "source": [
        "### Extraindo os rótulos"
      ]
    },
    {
      "cell_type": "markdown",
      "metadata": {
        "id": "3vYYEI1gYlQr"
      },
      "source": [
        "Assim como no MNIST, gostaríamos de armazenar nossos rótulos de treinamento e validação nas variáveis `y_train` e `y_valid`. Aqui criamos essas variáveis e depois excluímos os rótulos dos nossos dataframes originais, onde eles não são mais necessários:"
      ]
    },
    {
      "cell_type": "code",
      "execution_count": null,
      "metadata": {
        "id": "UcKvjSXbYlQs"
      },
      "outputs": [],
      "source": [
        "y_train = train_df['label']\n",
        "y_valid = valid_df['label']\n",
        "del train_df['label']\n",
        "del valid_df['label']"
      ]
    },
    {
      "cell_type": "markdown",
      "metadata": {
        "id": "Vbzz8mHbYlQs"
      },
      "source": [
        "### Extraindo as imagens"
      ]
    },
    {
      "cell_type": "markdown",
      "metadata": {
        "id": "XeHkdH6AYlQs"
      },
      "source": [
        "Assim como no MNIST, gostaríamos de armazenar nossas imagens de treinamento e validação nas variáveis `x_train` e `x_valid`. Aqui criamos essas variáveis:"
      ]
    },
    {
      "cell_type": "code",
      "execution_count": null,
      "metadata": {
        "id": "wXZAl5FNYlQt"
      },
      "outputs": [],
      "source": [
        "x_train = train_df.values\n",
        "x_valid = valid_df.values"
      ]
    },
    {
      "cell_type": "markdown",
      "metadata": {
        "id": "V6H_ZykkYlQt"
      },
      "source": [
        "### Summarizing the Training and Validation Data"
      ]
    },
    {
      "cell_type": "markdown",
      "metadata": {
        "id": "VkRIEIp6YlQt"
      },
      "source": [
        "Temos agora 27.455 imagens com 784 pixels cada para treinamento..."
      ]
    },
    {
      "cell_type": "code",
      "execution_count": null,
      "metadata": {
        "id": "PfDAU3cpYlQt"
      },
      "outputs": [],
      "source": [
        "x_train.shape #quantidade de linhas, quant colunas"
      ]
    },
    {
      "cell_type": "markdown",
      "metadata": {
        "id": "-kQw8TQkYlQu"
      },
      "source": [
        "...bem como seus rótulos correspondentes:"
      ]
    },
    {
      "cell_type": "code",
      "execution_count": null,
      "metadata": {
        "id": "Sm952T4HYlQu"
      },
      "outputs": [],
      "source": [
        "y_train.shape #do outro lado tá vazio pq ele só pegou as linhas, e coluna nenhuma"
      ]
    },
    {
      "cell_type": "markdown",
      "metadata": {
        "id": "QbUH9lq8YlQu"
      },
      "source": [
        "Para validação, temos 7.172 imagens..."
      ]
    },
    {
      "cell_type": "code",
      "execution_count": null,
      "metadata": {
        "id": "IUj515sxYlQu"
      },
      "outputs": [],
      "source": [
        "x_valid.shape"
      ]
    },
    {
      "cell_type": "markdown",
      "metadata": {
        "id": "D0Ey94QDYlQu"
      },
      "source": [
        "...e seus rótulos correspondentes:"
      ]
    },
    {
      "cell_type": "code",
      "execution_count": null,
      "metadata": {
        "id": "qYN0u0DeYlQv"
      },
      "outputs": [],
      "source": [
        "y_valid.shape"
      ]
    },
    {
      "cell_type": "markdown",
      "metadata": {
        "id": "rGulv-cTYlQv"
      },
      "source": [
        "## visualize os dados"
      ]
    },
    {
      "cell_type": "markdown",
      "metadata": {
        "id": "esYk7bEXYlQv"
      },
      "source": [
        "Para visualizar as imagens, utilizaremos novamente a biblioteca matplotlib. Não precisamos nos preocupar com os detalhes desta visualização, mas se estiver interessado, você poderá aprender mais sobre [matplotlib](https://matplotlib.org/) posteriormente.\n",
        "\n",
        "Observe que teremos que remodelar os dados de seu formato 1D atual de 784 pixels para um formato 2D de 28x28 pixels para dar sentido à imagem:"
      ]
    },
    {
      "cell_type": "code",
      "execution_count": null,
      "metadata": {
        "id": "arNnbKL9YlQv"
      },
      "outputs": [],
      "source": [
        "import matplotlib.pyplot as plt\n",
        "plt.figure(figsize=(40,40))\n",
        "\n",
        "num_images = 20\n",
        "for i in range(num_images):\n",
        "    row = x_train[i]\n",
        "    label = y_train[i]\n",
        "\n",
        "    image = row.reshape(28,28)\n",
        "    plt.subplot(1, num_images, i+1)\n",
        "    plt.title(label, fontdict={'fontsize': 30})\n",
        "    plt.axis('off')\n",
        "    plt.imshow(image, cmap='gray')"
      ]
    },
    {
      "cell_type": "markdown",
      "metadata": {
        "id": "2aZRT8wNYlQw"
      },
      "source": [
        "## Exercício: normalize os dados de imagem"
      ]
    },
    {
      "cell_type": "markdown",
      "metadata": {
        "id": "VPwbi8vLYlQw"
      },
      "source": [
        "Assim como fizemos com o conjunto de dados MNIST, vamos normalizar os dados da imagem, ou seja, seus valores de pixel, em vez de ficarem entre 0 e 255 como estão atualmente:"
      ]
    },
    {
      "cell_type": "code",
      "execution_count": null,
      "metadata": {
        "id": "X9Y62mNwYlQw"
      },
      "outputs": [],
      "source": [
        "x_train.min()"
      ]
    },
    {
      "cell_type": "code",
      "execution_count": null,
      "metadata": {
        "id": "V9dVC9iKYlQw"
      },
      "outputs": [],
      "source": [
        "x_train.max()"
      ]
    },
    {
      "cell_type": "markdown",
      "metadata": {
        "id": "su3yn8gMYlQw"
      },
      "source": [
        "...devem ter valores de ponto flutuante entre 0 e 1. Use a célula a seguir para trabalhar. Se você tiver dúvidas, veja a solução abaixo."
      ]
    },
    {
      "cell_type": "code",
      "execution_count": null,
      "metadata": {
        "id": "pwFIxevbYlQw"
      },
      "outputs": [],
      "source": [
        "x_train = x_train / 255\n",
        "x_valid = x_valid / 255"
      ]
    },
    {
      "cell_type": "markdown",
      "metadata": {
        "id": "DGqslQKMYlQx"
      },
      "source": [
        "## Exercício: categorize os rótulos"
      ]
    },
    {
      "cell_type": "markdown",
      "metadata": {
        "id": "uOd2rjAdYlQx"
      },
      "source": [
        "Assim como fizemos com o conjunto de dados MNIST, codificaremos categoricamente os rótulos. Lembre-se de que podemos usar o método [keras.utils.to_categorical](https://www.tensorflow.org/api_docs/python/tf/keras/utils/to_categorical) para fazer isso, passando-lhe os valores a serem codificados e, o número de categorias para codificá-lo. Faça seu trabalho na célula abaixo. Importamos `keras` e definimos o número de categorias (24) para você."
      ]
    },
    {
      "cell_type": "code",
      "execution_count": null,
      "metadata": {
        "id": "yFvBE3ZwYlQx"
      },
      "outputs": [],
      "source": [
        "import keras\n",
        "num_classes = 24"
      ]
    },
    {
      "cell_type": "code",
      "execution_count": null,
      "metadata": {
        "id": "dMADHguIYlQy"
      },
      "outputs": [],
      "source": [
        "y_train = keras.utils.to_categorical(y_train, num_classes)\n",
        "y_valid = keras.utils.to_categorical(y_valid, num_classes)"
      ]
    },
    {
      "cell_type": "markdown",
      "metadata": {
        "id": "vTkaG36bYlQy"
      },
      "source": [
        "## Exercício: Construa o modelo"
      ]
    },
    {
      "cell_type": "markdown",
      "metadata": {
        "id": "MNdwsx3ZYlQy"
      },
      "source": [
        "Os dados estão todos preparados, temos imagens normalizadas para treinamento e validação, bem como rótulos codificados categoricamente para treinamento e validação.\n",
        "\n",
        "Para este exercício vamos construir um modelo sequencial. Assim como da última vez, construa um modelo que:\n",
        "* Possui uma camada de entrada densa. Esta camada deve conter 512 neurônios, usar a função de ativação `relu` e esperar imagens de entrada com formato `(784,)`\n",
        "* Possui uma segunda camada densa com 512 neurônios que utiliza a função de ativação `relu`\n",
        "* Possui uma camada de saída densa com neurônios igual ao número de classes, usando a função de ativação `softmax`\n",
        "\n",
        "Faça seu trabalho na célula abaixo, criando uma variável `model` para armazenar o modelo. Importamos a classe de modelo Keras [Sequental](https://www.tensorflow.org/api_docs/python/tf/keras/Sequential) e [Dense](https://www.tensorflow.org/api_docs/python /tf/keras/layers/Dense) para você começar. Revele a solução abaixo para obter uma dica:"
      ]
    },
    {
      "cell_type": "code",
      "source": [
        "from keras.models import Sequential\n",
        "from keras.layers import Dense\n",
        "\n",
        "model = Sequential()\n",
        "model.add(Dense(units=512, activation='relu', input_shape=(784,))) #entrada\n",
        "model.add(Dense(units=512, activation='relu')) #intermediaria\n",
        "model.add(Dense(units=24, activation='softmax')) #saida"
      ],
      "metadata": {
        "id": "YCTCyRc4w_1Q"
      },
      "execution_count": null,
      "outputs": []
    },
    {
      "cell_type": "markdown",
      "metadata": {
        "id": "Qkv1nqT4YlQz"
      },
      "source": [
        "## Resumo do Modelo"
      ]
    },
    {
      "cell_type": "markdown",
      "metadata": {
        "id": "ywlsl10ZYlQz"
      },
      "source": [
        "Execute a célula abaixo para resumir o modelo que você acabou de criar:"
      ]
    },
    {
      "cell_type": "code",
      "execution_count": null,
      "metadata": {
        "id": "DQj3bgUUYlQ0"
      },
      "outputs": [],
      "source": [
        "model.summary()"
      ]
    },
    {
      "cell_type": "markdown",
      "metadata": {
        "id": "L3CX93niYlQ0"
      },
      "source": [
        "## Compilando o Modelo"
      ]
    },
    {
      "cell_type": "markdown",
      "metadata": {
        "id": "O387qHYOYlQ0"
      },
      "source": [
        "Vamos [compilar](https://www.tensorflow.org/api_docs/python/tf/keras/Sequential#compile) nosso modelo com as mesmas opções de antes, usando [entropia cruzada categórica](https://www. tensorflow.org/api_docs/python/tf/keras/losses/CategoricalCrossentropy) para refletir o fato de que queremos nos enquadrar em uma das muitas categorias e medir a precisão do nosso modelo:"
      ]
    },
    {
      "cell_type": "code",
      "execution_count": null,
      "metadata": {
        "id": "4dAZNslvYlQ0"
      },
      "outputs": [],
      "source": [
        "model.compile(loss='categorical_crossentropy', metrics=['accuracy'])"
      ]
    },
    {
      "cell_type": "markdown",
      "metadata": {
        "id": "6RJS-5zRYlQ0"
      },
      "source": [
        "## Exercício: Treine o modelo"
      ]
    },
    {
      "cell_type": "markdown",
      "metadata": {
        "id": "dVsJDmTzYlQ0"
      },
      "source": [
        "Use o método `fit` do modelo para treiná-lo por 20 épocas usando as imagens e rótulos de treinamento e validação criados acima:"
      ]
    },
    {
      "cell_type": "code",
      "execution_count": null,
      "metadata": {
        "id": "nfmvhZqfYlQ0"
      },
      "outputs": [],
      "source": [
        "history = model.fit(\n",
        "    x_train, y_train, epochs=20, verbose=1, validation_data=(x_valid, y_valid)\n",
        ")"
      ]
    },
    {
      "cell_type": "markdown",
      "metadata": {
        "id": "xlluCyqHYlQ1"
      },
      "source": [
        "## Discussão: O que aconteceu?"
      ]
    },
    {
      "cell_type": "markdown",
      "metadata": {
        "id": "hoQudS7iYlQ1"
      },
      "source": [
        "Podemos ver que a precisão do treinamento atingiu um nível bastante alto, mas a precisão da validação não foi tão alta. O que aconteceu aqui?\n",
        "\n",
        "Pense um pouco antes de clicar no '...' abaixo para revelar a resposta."
      ]
    },
    {
      "cell_type": "markdown",
      "metadata": {
        "jupyter": {
          "source_hidden": true
        },
        "id": "xYZoaYncYlQ1"
      },
      "source": [
        "`#SOLUÇÃO`\n",
        "Este é um exemplo de modelo aprendendo a categorizar os dados de treinamento, mas com desempenho insatisfatório em relação a novos dados nos quais não foi treinado. Essencialmente, trata-se de memorizar o conjunto de dados, mas não de obter uma compreensão robusta e geral do problema. Este é um problema comum chamado *overfitting*. Discutiremos o overfitting nas próximas duas palestras, bem como algumas maneiras de abordá-lo."
      ]
    },
    {
      "cell_type": "markdown",
      "metadata": {
        "id": "D5tYd5OZYlQ1"
      },
      "source": [
        "## Summary"
      ]
    },
    {
      "cell_type": "markdown",
      "metadata": {
        "id": "EqZILy3BYlQ1"
      },
      "source": [
        "Nesta seção, você construiu sua própria rede neural para realizar uma classificação de imagens bastante precisa. Parabéns!\n",
        "\n",
        "Neste ponto, devemos estar familiarizados com o processo de carregamento de dados (incluindo rótulos), prepará-los, criar um modelo e, em seguida, treinar o modelo com os dados preparados."
      ]
    },
    {
      "cell_type": "markdown",
      "metadata": {
        "id": "u2oLKIsNYlQ1"
      },
      "source": [
        "### Limpe a memória\n",
        "Antes de prosseguir, execute a seguinte célula para limpar a memória da GPU. Isso é necessário para passar para o próximo caderno."
      ]
    },
    {
      "cell_type": "code",
      "execution_count": null,
      "metadata": {
        "id": "KxHTU5gOYlQ2"
      },
      "outputs": [],
      "source": [
        "import IPython\n",
        "app = IPython.Application.instance()\n",
        "app.kernel.do_shutdown(True)"
      ]
    },
    {
      "cell_type": "markdown",
      "metadata": {
        "id": "jTOJXaNBYlQ2"
      },
      "source": [
        "## Próximo"
      ]
    },
    {
      "cell_type": "markdown",
      "metadata": {
        "id": "EWDkYFMcYlQ2"
      },
      "source": [
        "Agora que você construiu alguns modelos básicos e um tanto eficazes, começaremos a aprender sobre modelos mais sofisticados, incluindo *Redes Neurais Convolucionais*."
      ]
    }
  ],
  "metadata": {
    "kernelspec": {
      "display_name": "Python 3 (ipykernel)",
      "language": "python",
      "name": "python3"
    },
    "language_info": {
      "codemirror_mode": {
        "name": "ipython",
        "version": 3
      },
      "file_extension": ".py",
      "mimetype": "text/x-python",
      "name": "python",
      "nbconvert_exporter": "python",
      "pygments_lexer": "ipython3",
      "version": "3.8.10"
    },
    "colab": {
      "provenance": [],
      "machine_shape": "hm"
    },
    "accelerator": "GPU"
  },
  "nbformat": 4,
  "nbformat_minor": 0
}