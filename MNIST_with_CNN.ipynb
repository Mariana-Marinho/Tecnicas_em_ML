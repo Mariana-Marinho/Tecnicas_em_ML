{
  "nbformat": 4,
  "nbformat_minor": 0,
  "metadata": {
    "colab": {
      "provenance": [],
      "gpuType": "T4"
    },
    "kernelspec": {
      "name": "python3",
      "display_name": "Python 3"
    },
    "language_info": {
      "name": "python"
    },
    "accelerator": "GPU"
  },
  "cells": [
    {
      "cell_type": "markdown",
      "source": [
        "#Atividade de CNN\n",
        "\n",
        "Criar modelo de aprendizagem de máquina com algoritmo CNN (Rede Neural Convolucional) para a base de dados MNIST.\n",
        "\n",
        "\n",
        "\n",
        "*   Dataset: https://keras.io/api/datasets/mnist/"
      ],
      "metadata": {
        "id": "P4tyEEzJYJG-"
      }
    },
    {
      "cell_type": "markdown",
      "source": [
        "# Conectar ao Google Drive"
      ],
      "metadata": {
        "id": "n7JL7fEurecn"
      }
    },
    {
      "cell_type": "code",
      "source": [
        "from google.colab import drive\n",
        "drive.mount('/content/gdrive', force_remount=True)"
      ],
      "metadata": {
        "colab": {
          "base_uri": "https://localhost:8080/"
        },
        "id": "5APQk3uqYvzl",
        "outputId": "34c27ae6-3422-4b6e-821d-067e2dec7e0a"
      },
      "execution_count": null,
      "outputs": [
        {
          "output_type": "stream",
          "name": "stdout",
          "text": [
            "Mounted at /content/gdrive\n"
          ]
        }
      ]
    },
    {
      "cell_type": "code",
      "source": [
        "%cd /content/gdrive/MyDrive/Colab Notebooks/Projeto CNN\n",
        "\n",
        "!ls"
      ],
      "metadata": {
        "colab": {
          "base_uri": "https://localhost:8080/"
        },
        "id": "5NEFNOSFYv2_",
        "outputId": "4ca2d395-265c-4669-898c-be3126d1e20b"
      },
      "execution_count": null,
      "outputs": [
        {
          "output_type": "stream",
          "name": "stdout",
          "text": [
            "/content/gdrive/MyDrive/Colab Notebooks/Projeto CNN\n",
            "'Projeto 8.ipynb'\n"
          ]
        }
      ]
    },
    {
      "cell_type": "markdown",
      "source": [
        "# Carregar base e manipulá-la"
      ],
      "metadata": {
        "id": "1BsmrSqrE-Vb"
      }
    },
    {
      "cell_type": "code",
      "execution_count": null,
      "metadata": {
        "id": "DaKivlzSXPXz"
      },
      "outputs": [],
      "source": [
        "import keras\n",
        "import pandas as pd\n",
        "\n",
        "keras.datasets.mnist.load_data(path=\"mnist.npz\") #importar o dataset\n",
        "(x_train, y_train), (x_valid, y_valid) = keras.datasets.mnist.load_data() #separar em treino e validação"
      ]
    },
    {
      "cell_type": "code",
      "source": [
        "# printar pra ver se tá tudo certo\n",
        "print('Train: X=%s, y=%s' % (x_train.shape, y_train.shape))\n",
        "print('Test: X=%s, y=%s' % (x_valid.shape, y_valid.shape))"
      ],
      "metadata": {
        "colab": {
          "base_uri": "https://localhost:8080/"
        },
        "id": "B0-ATueMaT83",
        "outputId": "7622b732-5cf0-4b7f-fea6-a7f526df5098"
      },
      "execution_count": null,
      "outputs": [
        {
          "output_type": "stream",
          "name": "stdout",
          "text": [
            "Train: X=(60000, 28, 28), y=(60000,)\n",
            "Test: X=(10000, 28, 28), y=(10000,)\n"
          ]
        }
      ]
    },
    {
      "cell_type": "code",
      "source": [
        "# passar o escalar para binario\n",
        "num_classes = 10\n",
        "y_train = keras.utils.to_categorical(y_train, num_classes)\n",
        "y_valid = keras.utils.to_categorical(y_valid, num_classes)"
      ],
      "metadata": {
        "id": "nk-Z3831a0zQ"
      },
      "execution_count": null,
      "outputs": []
    },
    {
      "cell_type": "code",
      "source": [
        "# Normalizar os dados das imagens (255 é o maior valor possível)\n",
        "x_train = x_train / 255\n",
        "x_valid = x_valid / 255"
      ],
      "metadata": {
        "id": "KbUwKUMpb3re"
      },
      "execution_count": null,
      "outputs": []
    },
    {
      "cell_type": "code",
      "source": [
        "# mudar de vetor para matriz\n",
        "x_train = x_train.reshape(-1,28,28,1) #-1 para manter o mesmo valor, (28, 28) para virar uma matriz 28x28 e 1 pq so tem 1 esca de cor (branco e preto)\n",
        "x_valid = x_valid.reshape(-1,28,28,1)"
      ],
      "metadata": {
        "id": "EQ4R-tkfcS6K"
      },
      "execution_count": null,
      "outputs": []
    },
    {
      "cell_type": "code",
      "source": [
        "# printar pra ver se tá tudo certo\n",
        "print('Train: X=%s, y=%s' % (x_train.shape, y_train.shape))\n",
        "print('Test: X=%s, y=%s' % (x_valid.shape, y_valid.shape))\n",
        "x_train.max(), x_train.min()"
      ],
      "metadata": {
        "colab": {
          "base_uri": "https://localhost:8080/"
        },
        "outputId": "867fa9f4-4585-43a5-c6c0-415d90c21101",
        "id": "G1k3fIDycFiy"
      },
      "execution_count": null,
      "outputs": [
        {
          "output_type": "stream",
          "name": "stdout",
          "text": [
            "Train: X=(60000, 28, 28, 1), y=(60000, 10)\n",
            "Test: X=(10000, 28, 28, 1), y=(10000, 10)\n"
          ]
        },
        {
          "output_type": "execute_result",
          "data": {
            "text/plain": [
              "(1.0, 0.0)"
            ]
          },
          "metadata": {},
          "execution_count": 8
        }
      ]
    },
    {
      "cell_type": "markdown",
      "source": [
        "# Criando o modelo"
      ],
      "metadata": {
        "id": "mUH2ycE9FEr4"
      }
    },
    {
      "cell_type": "code",
      "source": [
        "from keras.models import Sequential\n",
        "from keras.layers import (\n",
        "    Dense,\n",
        "    Conv2D,\n",
        "    MaxPool2D,\n",
        "    Flatten,\n",
        "    Dropout,\n",
        "    BatchNormalization,\n",
        ")\n",
        "\n",
        "model = Sequential()\n",
        "model.add(Conv2D(70, (3, 3), strides=1, padding=\"same\", activation=\"relu\", input_shape=(28, 28, 1))) # camada convolocional que soma os pixel\n",
        "model.add(Dropout(0.2)) #desliga 20% dos neurônios aleatoriamente\n",
        "model.add(BatchNormalization()) #normalizar o input recebido\n",
        "model.add(MaxPool2D((2, 2), strides=2, padding=\"same\")) # cria um filtro para normalizar a imagem (retorna uma matriz com dimensoes pool_sixe=(x,y) que pega o maior valor a cada quadrante (x,y) da matriz)\n",
        "model.add(Conv2D(30, (3, 3), strides=1, padding=\"same\", activation=\"relu\")) # camada convolocional que soma os pixel\n",
        "model.add(BatchNormalization()) #normalizar o input recebido\n",
        "model.add(MaxPool2D((2, 2), strides=2, padding=\"same\")) # filtro com maiores valores de cada quadrante\n",
        "model.add(Flatten()) # tansforma a matriz em um vetor\n",
        "model.add(Dense(units=512, activation=\"relu\")) # camada densa\n",
        "model.add(Dense(units=num_classes, activation=\"softmax\")) #camada de saída"
      ],
      "metadata": {
        "id": "pgc31-RUcbUb"
      },
      "execution_count": null,
      "outputs": []
    },
    {
      "cell_type": "code",
      "source": [
        "#sumario do modelo\n",
        "\n",
        "model.summary()"
      ],
      "metadata": {
        "colab": {
          "base_uri": "https://localhost:8080/"
        },
        "id": "Sx2Xc6SefsX6",
        "outputId": "c81a7bcb-4e19-4259-864f-db6ddcb6ad6c"
      },
      "execution_count": null,
      "outputs": [
        {
          "output_type": "stream",
          "name": "stdout",
          "text": [
            "Model: \"sequential\"\n",
            "_________________________________________________________________\n",
            " Layer (type)                Output Shape              Param #   \n",
            "=================================================================\n",
            " conv2d (Conv2D)             (None, 28, 28, 70)        700       \n",
            "                                                                 \n",
            " dropout (Dropout)           (None, 28, 28, 70)        0         \n",
            "                                                                 \n",
            " batch_normalization (Batch  (None, 28, 28, 70)        280       \n",
            " Normalization)                                                  \n",
            "                                                                 \n",
            " max_pooling2d (MaxPooling2  (None, 14, 14, 70)        0         \n",
            " D)                                                              \n",
            "                                                                 \n",
            " conv2d_1 (Conv2D)           (None, 14, 14, 30)        18930     \n",
            "                                                                 \n",
            " dropout_1 (Dropout)         (None, 14, 14, 30)        0         \n",
            "                                                                 \n",
            " batch_normalization_1 (Bat  (None, 14, 14, 30)        120       \n",
            " chNormalization)                                                \n",
            "                                                                 \n",
            " max_pooling2d_1 (MaxPoolin  (None, 7, 7, 30)          0         \n",
            " g2D)                                                            \n",
            "                                                                 \n",
            " flatten (Flatten)           (None, 1470)              0         \n",
            "                                                                 \n",
            " dense (Dense)               (None, 512)               753152    \n",
            "                                                                 \n",
            " dropout_2 (Dropout)         (None, 512)               0         \n",
            "                                                                 \n",
            " dense_1 (Dense)             (None, 10)                5130      \n",
            "                                                                 \n",
            "=================================================================\n",
            "Total params: 778312 (2.97 MB)\n",
            "Trainable params: 778112 (2.97 MB)\n",
            "Non-trainable params: 200 (800.00 Byte)\n",
            "_________________________________________________________________\n"
          ]
        }
      ]
    },
    {
      "cell_type": "code",
      "source": [
        "model.compile(loss=\"categorical_crossentropy\", metrics=[\"accuracy\"])"
      ],
      "metadata": {
        "id": "inBcedjSgTil"
      },
      "execution_count": null,
      "outputs": []
    },
    {
      "cell_type": "code",
      "source": [
        "model.fit(x_train, y_train, epochs=5, verbose=1, validation_data=(x_valid, y_valid))"
      ],
      "metadata": {
        "colab": {
          "base_uri": "https://localhost:8080/"
        },
        "id": "HPCpKezygZ3Y",
        "outputId": "1eb56ec1-516a-45a8-ed9e-8ed04bf51cf3"
      },
      "execution_count": null,
      "outputs": [
        {
          "output_type": "stream",
          "name": "stdout",
          "text": [
            "Epoch 1/5\n",
            "1875/1875 [==============================] - 12s 7ms/step - loss: 0.0045 - accuracy: 0.9987 - val_loss: 0.0487 - val_accuracy: 0.9902\n",
            "Epoch 2/5\n",
            "1875/1875 [==============================] - 11s 6ms/step - loss: 0.0036 - accuracy: 0.9991 - val_loss: 0.0472 - val_accuracy: 0.9903\n",
            "Epoch 3/5\n",
            "1875/1875 [==============================] - 12s 6ms/step - loss: 0.0037 - accuracy: 0.9991 - val_loss: 0.0550 - val_accuracy: 0.9900\n",
            "Epoch 4/5\n",
            "1875/1875 [==============================] - 11s 6ms/step - loss: 0.0022 - accuracy: 0.9993 - val_loss: 0.0794 - val_accuracy: 0.9897\n",
            "Epoch 5/5\n",
            "1875/1875 [==============================] - 12s 6ms/step - loss: 0.0018 - accuracy: 0.9996 - val_loss: 0.0659 - val_accuracy: 0.9898\n"
          ]
        },
        {
          "output_type": "execute_result",
          "data": {
            "text/plain": [
              "<keras.src.callbacks.History at 0x7ba0d8014460>"
            ]
          },
          "metadata": {},
          "execution_count": 16
        }
      ]
    }
  ]
}