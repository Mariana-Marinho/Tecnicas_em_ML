{
  "cells": [
    {
      "cell_type": "code",
      "execution_count": 1,
      "metadata": {
        "colab": {
          "base_uri": "https://localhost:8080/"
        },
        "id": "BVHNUXneSCqY",
        "outputId": "d562148e-2bbe-490d-a4ad-3200082595bc"
      },
      "outputs": [
        {
          "output_type": "stream",
          "name": "stdout",
          "text": [
            "Train: X=(50000, 32, 32, 3), y=(50000, 1)\n",
            "Test: X=(10000, 32, 32, 3), y=(10000, 1)\n"
          ]
        }
      ],
      "source": [
        "import matplotlib.pyplot as plt\n",
        "import numpy as np\n",
        "import tensorflow as tf\n",
        "import keras\n",
        "from keras.models import Sequential\n",
        "from keras.layers import (Conv2D, Dropout, MaxPool2D, Flatten, Dense, BatchNormalization,)\n",
        "from keras.constraints import MaxNorm\n",
        "from keras.datasets.cifar10 import load_data\n",
        "\n",
        " #load data CIFAR-10 dataset\n",
        "(x_train, y_train), (x_test, y_test) = load_data()\n",
        "\n",
        "# rescale image\n",
        "x_train_scaled = x_train / 255.0\n",
        "x_test_scaled = x_test / 255.0\n",
        "\n",
        "num_class = 10\n",
        "\n",
        "# printar pra ver se tá tudo certo\n",
        "print('Train: X=%s, y=%s' % (x_train.shape, y_train.shape))\n",
        "print('Test: X=%s, y=%s' % (x_test.shape, y_test.shape))\n"
      ]
    },
    {
      "cell_type": "code",
      "source": [
        "#define model\n",
        "model = Sequential([\n",
        "    Conv2D(32, (2,2), input_shape=(32, 32, 3), padding=\"same\", activation=\"relu\", kernel_constraint=MaxNorm(3)),\n",
        "\n",
        "    BatchNormalization(),\n",
        "\n",
        "    Conv2D(32, (2,2), input_shape=(32, 32, 3), padding=\"same\", activation=\"relu\", kernel_constraint=MaxNorm(3)),\n",
        "\n",
        "    BatchNormalization(),\n",
        "\n",
        "    MaxPool2D((2, 2), strides=2, padding=\"same\"),\n",
        "\n",
        "    Dropout(0.2),\n",
        "\n",
        "    Conv2D(64, (2,2), input_shape=(32, 32, 3), padding=\"same\", activation=\"relu\", kernel_constraint=MaxNorm(3)),\n",
        "\n",
        "    BatchNormalization(),\n",
        "\n",
        "    Conv2D(64, (2,2), input_shape=(32, 32, 3), padding=\"same\", activation=\"relu\", kernel_constraint=MaxNorm(3)),\n",
        "\n",
        "    BatchNormalization(),\n",
        "\n",
        "    MaxPool2D((2,2), strides=2, padding=\"same\"),\n",
        "\n",
        "    Dropout(0.25),\n",
        "\n",
        "    Conv2D(128, (2,2), input_shape=(32, 32, 3), padding=\"same\", activation=\"relu\", kernel_constraint=MaxNorm(3)),\n",
        "\n",
        "    BatchNormalization(),\n",
        "\n",
        "    Conv2D(128, (2,2), input_shape=(32, 32, 3), padding=\"same\", activation=\"relu\", kernel_constraint=MaxNorm(3)),\n",
        "\n",
        "    BatchNormalization(),\n",
        "\n",
        "    MaxPool2D((2, 2), strides=2, padding=\"same\"),\n",
        "\n",
        "    Dropout(0.5),\n",
        "\n",
        "    Flatten(),\n",
        "\n",
        "    Dense(128, activation=\"relu\", kernel_constraint=MaxNorm(3)),\n",
        "\n",
        "    Dropout(0.5),\n",
        "\n",
        "    Dense(num_class, activation=\"softmax\")\n",
        "])\n",
        "\n",
        "# summarize model\n",
        "model.summary()"
      ],
      "metadata": {
        "colab": {
          "base_uri": "https://localhost:8080/"
        },
        "id": "wkCAfASRAIKX",
        "outputId": "2b8bbc38-2ef7-4967-8f50-f436c1ea769e"
      },
      "execution_count": 2,
      "outputs": [
        {
          "output_type": "stream",
          "name": "stdout",
          "text": [
            "Model: \"sequential\"\n",
            "_________________________________________________________________\n",
            " Layer (type)                Output Shape              Param #   \n",
            "=================================================================\n",
            " conv2d (Conv2D)             (None, 32, 32, 32)        416       \n",
            "                                                                 \n",
            " batch_normalization (Batch  (None, 32, 32, 32)        128       \n",
            " Normalization)                                                  \n",
            "                                                                 \n",
            " conv2d_1 (Conv2D)           (None, 32, 32, 32)        4128      \n",
            "                                                                 \n",
            " batch_normalization_1 (Bat  (None, 32, 32, 32)        128       \n",
            " chNormalization)                                                \n",
            "                                                                 \n",
            " max_pooling2d (MaxPooling2  (None, 16, 16, 32)        0         \n",
            " D)                                                              \n",
            "                                                                 \n",
            " dropout (Dropout)           (None, 16, 16, 32)        0         \n",
            "                                                                 \n",
            " conv2d_2 (Conv2D)           (None, 16, 16, 64)        8256      \n",
            "                                                                 \n",
            " batch_normalization_2 (Bat  (None, 16, 16, 64)        256       \n",
            " chNormalization)                                                \n",
            "                                                                 \n",
            " conv2d_3 (Conv2D)           (None, 16, 16, 64)        16448     \n",
            "                                                                 \n",
            " batch_normalization_3 (Bat  (None, 16, 16, 64)        256       \n",
            " chNormalization)                                                \n",
            "                                                                 \n",
            " max_pooling2d_1 (MaxPoolin  (None, 8, 8, 64)          0         \n",
            " g2D)                                                            \n",
            "                                                                 \n",
            " dropout_1 (Dropout)         (None, 8, 8, 64)          0         \n",
            "                                                                 \n",
            " conv2d_4 (Conv2D)           (None, 8, 8, 128)         32896     \n",
            "                                                                 \n",
            " batch_normalization_4 (Bat  (None, 8, 8, 128)         512       \n",
            " chNormalization)                                                \n",
            "                                                                 \n",
            " conv2d_5 (Conv2D)           (None, 8, 8, 128)         65664     \n",
            "                                                                 \n",
            " batch_normalization_5 (Bat  (None, 8, 8, 128)         512       \n",
            " chNormalization)                                                \n",
            "                                                                 \n",
            " max_pooling2d_2 (MaxPoolin  (None, 4, 4, 128)         0         \n",
            " g2D)                                                            \n",
            "                                                                 \n",
            " dropout_2 (Dropout)         (None, 4, 4, 128)         0         \n",
            "                                                                 \n",
            " flatten (Flatten)           (None, 2048)              0         \n",
            "                                                                 \n",
            " dense (Dense)               (None, 128)               262272    \n",
            "                                                                 \n",
            " dropout_3 (Dropout)         (None, 128)               0         \n",
            "                                                                 \n",
            " dense_1 (Dense)             (None, 10)                1290      \n",
            "                                                                 \n",
            "=================================================================\n",
            "Total params: 393162 (1.50 MB)\n",
            "Trainable params: 392266 (1.50 MB)\n",
            "Non-trainable params: 896 (3.50 KB)\n",
            "_________________________________________________________________\n"
          ]
        }
      ]
    },
    {
      "cell_type": "code",
      "execution_count": null,
      "metadata": {
        "colab": {
          "base_uri": "https://localhost:8080/"
        },
        "id": "Awa6BmXfSl_6",
        "outputId": "0225cd32-3094-4f59-94b0-fb4b48f3b8dd"
      },
      "outputs": [
        {
          "output_type": "stream",
          "name": "stdout",
          "text": [
            "Epoch 1/25\n",
            "1563/1563 [==============================] - 27s 11ms/step - loss: 1.8469 - sparse_categorical_accuracy: 0.3137 - val_loss: 1.4557 - val_sparse_categorical_accuracy: 0.4585\n",
            "Epoch 2/25\n",
            "1563/1563 [==============================] - 16s 10ms/step - loss: 1.4736 - sparse_categorical_accuracy: 0.4561 - val_loss: 1.1399 - val_sparse_categorical_accuracy: 0.5803\n",
            "Epoch 3/25\n",
            "1563/1563 [==============================] - 16s 10ms/step - loss: 1.2965 - sparse_categorical_accuracy: 0.5384 - val_loss: 1.1774 - val_sparse_categorical_accuracy: 0.5937\n",
            "Epoch 4/25\n",
            "1563/1563 [==============================] - 16s 10ms/step - loss: 1.1780 - sparse_categorical_accuracy: 0.5864 - val_loss: 0.9382 - val_sparse_categorical_accuracy: 0.6694\n",
            "Epoch 5/25\n",
            "1563/1563 [==============================] - 17s 11ms/step - loss: 1.0872 - sparse_categorical_accuracy: 0.6189 - val_loss: 0.9679 - val_sparse_categorical_accuracy: 0.6650\n",
            "Epoch 6/25\n",
            "1563/1563 [==============================] - 17s 11ms/step - loss: 1.0173 - sparse_categorical_accuracy: 0.6452 - val_loss: 0.8384 - val_sparse_categorical_accuracy: 0.7100\n",
            "Epoch 7/25\n",
            "1563/1563 [==============================] - 16s 10ms/step - loss: 0.9624 - sparse_categorical_accuracy: 0.6696 - val_loss: 0.8138 - val_sparse_categorical_accuracy: 0.7109\n",
            "Epoch 8/25\n",
            "1563/1563 [==============================] - 16s 10ms/step - loss: 0.9018 - sparse_categorical_accuracy: 0.6909 - val_loss: 0.7336 - val_sparse_categorical_accuracy: 0.7411\n",
            "Epoch 9/25\n",
            "1563/1563 [==============================] - 17s 11ms/step - loss: 0.8636 - sparse_categorical_accuracy: 0.7053 - val_loss: 0.7188 - val_sparse_categorical_accuracy: 0.7530\n",
            "Epoch 10/25\n",
            "1563/1563 [==============================] - 16s 10ms/step - loss: 0.8191 - sparse_categorical_accuracy: 0.7196 - val_loss: 0.6782 - val_sparse_categorical_accuracy: 0.7686\n",
            "Epoch 11/25\n",
            "1563/1563 [==============================] - 16s 10ms/step - loss: 0.7834 - sparse_categorical_accuracy: 0.7300 - val_loss: 0.7369 - val_sparse_categorical_accuracy: 0.7534\n",
            "Epoch 12/25\n",
            "1563/1563 [==============================] - 16s 10ms/step - loss: 0.7500 - sparse_categorical_accuracy: 0.7429 - val_loss: 0.7499 - val_sparse_categorical_accuracy: 0.7515\n",
            "Epoch 13/25\n",
            "1563/1563 [==============================] - 16s 11ms/step - loss: 0.7303 - sparse_categorical_accuracy: 0.7495 - val_loss: 0.6202 - val_sparse_categorical_accuracy: 0.7884\n",
            "Epoch 14/25\n",
            "1563/1563 [==============================] - 16s 10ms/step - loss: 0.7085 - sparse_categorical_accuracy: 0.7559 - val_loss: 0.6890 - val_sparse_categorical_accuracy: 0.7664\n",
            "Epoch 15/25\n",
            "1563/1563 [==============================] - 16s 10ms/step - loss: 0.6880 - sparse_categorical_accuracy: 0.7651 - val_loss: 0.6603 - val_sparse_categorical_accuracy: 0.7734\n",
            "Epoch 16/25\n",
            "1563/1563 [==============================] - 16s 10ms/step - loss: 0.6679 - sparse_categorical_accuracy: 0.7712 - val_loss: 0.6014 - val_sparse_categorical_accuracy: 0.7970\n",
            "Epoch 17/25\n",
            "1563/1563 [==============================] - 16s 10ms/step - loss: 0.6599 - sparse_categorical_accuracy: 0.7716 - val_loss: 0.5933 - val_sparse_categorical_accuracy: 0.7956\n",
            "Epoch 18/25\n",
            "1563/1563 [==============================] - 17s 11ms/step - loss: 0.6401 - sparse_categorical_accuracy: 0.7806 - val_loss: 0.6396 - val_sparse_categorical_accuracy: 0.7841\n",
            "Epoch 19/25\n",
            "1563/1563 [==============================] - 16s 10ms/step - loss: 0.6288 - sparse_categorical_accuracy: 0.7842 - val_loss: 0.6033 - val_sparse_categorical_accuracy: 0.7928\n",
            "Epoch 20/25\n",
            "1563/1563 [==============================] - 17s 11ms/step - loss: 0.6199 - sparse_categorical_accuracy: 0.7878 - val_loss: 0.5608 - val_sparse_categorical_accuracy: 0.8085\n",
            "Epoch 21/25\n",
            " 124/1563 [=>............................] - ETA: 13s - loss: 0.5606 - sparse_categorical_accuracy: 0.8049"
          ]
        }
      ],
      "source": [
        "model.compile(optimizer=\"adam\",loss=\"sparse_categorical_crossentropy\",\n",
        "              metrics=\"sparse_categorical_accuracy\")\n",
        "\n",
        "model.fit(x_train_scaled, y_train, validation_data=(x_test_scaled, y_test), epochs=25, batch_size=32, workers=12)\n"
      ]
    },
    {
      "cell_type": "code",
      "execution_count": null,
      "metadata": {
        "id": "wIraD9WSTOaD"
      },
      "outputs": [],
      "source": [
        "\n",
        "#you can extract the output of each layer using an extractor model.\n",
        "# Extract output from each layer\n",
        "extractor = tf.keras.Model(inputs=model.inputs,\n",
        "                           outputs=[layer.output for layer in model.layers])\n",
        "features = extractor(np.expand_dims(x_train[7], 0))\n",
        "\n",
        "# Show the 32 feature maps from the first layer\n",
        "l0_features = features[0].numpy()[0]\n",
        "\n",
        "fig, ax = plt.subplots(4, 8, sharex=True, sharey=True, figsize=(16,8))\n",
        "for i in range(0, 32):\n",
        "    row, col = i//8, i%8\n",
        "    ax[row][col].imshow(l0_features[..., i])\n",
        "\n",
        "plt.show()"
      ]
    },
    {
      "cell_type": "code",
      "execution_count": null,
      "metadata": {
        "id": "JdSbhupNYPfg"
      },
      "outputs": [],
      "source": [
        "\n",
        "# Show the 32 feature maps from the fourth layer\n",
        "l4_features = features[4].numpy()[0]\n",
        "\n",
        "fig, ax = plt.subplots(4, 8, sharex=True, sharey=True, figsize=(16,8))\n",
        "for i in range(0, 32):\n",
        "    row, col = i//8, i%8\n",
        "    ax[row][col].imshow(l4_features[..., i])\n",
        "\n",
        "plt.show()"
      ]
    }
  ],
  "metadata": {
    "accelerator": "GPU",
    "colab": {
      "provenance": [],
      "gpuType": "T4"
    },
    "kernelspec": {
      "display_name": "Python 3",
      "name": "python3"
    },
    "language_info": {
      "name": "python"
    }
  },
  "nbformat": 4,
  "nbformat_minor": 0
}